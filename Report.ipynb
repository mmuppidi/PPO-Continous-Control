{
 "cells": [
  {
   "cell_type": "markdown",
   "metadata": {},
   "source": [
    "# Continuous Control\n",
    "\n",
    "---\n",
    "The goal of this project is to train an agent to control a double-jointed arm to target locations from Unity ML-Agents toolkit Bananas environment.\n",
    "\n",
    "### Environment:\n",
    "\n",
    "The environment consists 20 double-jointed arms which get a goal location at every timestep. Every timestep the arm stays within goal bounds agent receives a +1 reward. The goal of the agent is to follow the goal locations at every timestep and collect as many rewards as possible.\n",
    "\n",
    "The observation space consists of 33 variables corresponding to position, rotation, velocity, and angular velocities of the arm. Each action is a vector with four numbers, corresponding to torque applicable to two joints. Every entry in the action vector should be a number between -1 and 1. The task is complete when agents get an average score of +30 (over 100 consecutive episodes, and over all agents)"
   ]
  },
  {
   "cell_type": "code",
   "execution_count": 1,
   "metadata": {},
   "outputs": [],
   "source": [
    "from unityagents import UnityEnvironment\n",
    "import numpy as np\n",
    "sys.path.append('./dist_ppo')\n",
    "from agent import TrainedAgent"
   ]
  },
  {
   "cell_type": "code",
   "execution_count": 2,
   "metadata": {},
   "outputs": [
    {
     "name": "stderr",
     "output_type": "stream",
     "text": [
      "INFO:unityagents:\n",
      "'Academy' started successfully!\n",
      "Unity Academy name: Academy\n",
      "        Number of Brains: 1\n",
      "        Number of External Brains : 1\n",
      "        Lesson number : 0\n",
      "        Reset Parameters :\n",
      "\t\tgoal_speed -> 1.0\n",
      "\t\tgoal_size -> 5.0\n",
      "Unity brain name: ReacherBrain\n",
      "        Number of Visual Observations (per agent): 0\n",
      "        Vector Observation space type: continuous\n",
      "        Vector Observation space size (per agent): 33\n",
      "        Number of stacked Vector Observation: 1\n",
      "        Vector Action space type: continuous\n",
      "        Vector Action space size (per agent): 4\n",
      "        Vector Action descriptions: , , , \n"
     ]
    }
   ],
   "source": [
    "env = UnityEnvironment(file_name='dist_ppo/Reacher.app')"
   ]
  },
  {
   "cell_type": "code",
   "execution_count": 3,
   "metadata": {},
   "outputs": [],
   "source": [
    "# get the default brain\n",
    "brain_name = env.brain_names[0]\n",
    "brain = env.brains[brain_name]"
   ]
  },
  {
   "cell_type": "code",
   "execution_count": 4,
   "metadata": {},
   "outputs": [
    {
     "name": "stdout",
     "output_type": "stream",
     "text": [
      "Number of agents: 20\n",
      "Size of each action: 4\n",
      "There are 20 agents. Each observes a state with length: 33\n",
      "The state for the first agent looks like: [ 0.00000000e+00 -4.00000000e+00  0.00000000e+00  1.00000000e+00\n",
      " -0.00000000e+00 -0.00000000e+00 -4.37113883e-08  0.00000000e+00\n",
      "  0.00000000e+00  0.00000000e+00  0.00000000e+00  0.00000000e+00\n",
      "  0.00000000e+00  0.00000000e+00 -1.00000000e+01  0.00000000e+00\n",
      "  1.00000000e+00 -0.00000000e+00 -0.00000000e+00 -4.37113883e-08\n",
      "  0.00000000e+00  0.00000000e+00  0.00000000e+00  0.00000000e+00\n",
      "  0.00000000e+00  0.00000000e+00  5.75471878e+00 -1.00000000e+00\n",
      "  5.55726624e+00  0.00000000e+00  1.00000000e+00  0.00000000e+00\n",
      " -1.68164849e-01]\n"
     ]
    }
   ],
   "source": [
    "# reset the environment\n",
    "env_info = env.reset(train_mode=True)[brain_name]\n",
    "\n",
    "# number of agents\n",
    "num_agents = len(env_info.agents)\n",
    "print('Number of agents:', num_agents)\n",
    "\n",
    "# size of each action\n",
    "action_size = brain.vector_action_space_size\n",
    "print('Size of each action:', action_size)\n",
    "\n",
    "# examine the state space \n",
    "states = env_info.vector_observations\n",
    "state_size = states.shape[1]\n",
    "print('There are {} agents. Each observes a state with length: {}'.format(states.shape[0], state_size))\n",
    "print('The state for the first agent looks like:', states[0])"
   ]
  },
  {
   "cell_type": "code",
   "execution_count": 5,
   "metadata": {},
   "outputs": [],
   "source": [
    "def get_actions(agent, states):\n",
    "    return zip(*[agent.act(obs) for obs in states])\n",
    "\n",
    "def run_agent(env, agent):\n",
    "    env_info = env.reset(train_mode=False)[brain_name]     # reset the environment    \n",
    "    states = env_info.vector_observations                  # get the current state (for each agent)\n",
    "    scores = np.zeros(num_agents)                          # initialize the score (for each agent)\n",
    "    while True:\n",
    "        actions = agent.get_action(states)\n",
    "        env_info = env.step(np.array(actions))[brain_name]           # send all actions to tne environment\n",
    "        next_states = env_info.vector_observations         # get next state (for each agent)\n",
    "        rewards = env_info.rewards                         # get reward (for each agent)\n",
    "        dones = env_info.local_done                        # see if episode finished\n",
    "        scores += env_info.rewards                         # update the score (for each agent)\n",
    "        states = next_states                               # roll over states to next time step\n",
    "        if np.any(dones):                                  # exit loop if episode finished\n",
    "            break\n",
    "    return np.mean(scores)"
   ]
  },
  {
   "cell_type": "markdown",
   "metadata": {},
   "source": [
    "### Approach\n",
    "Agent is trained using Proximal Policy Approximation (PPO) algorithm. We train a policy network and a value network paralelly in Actor-Critic style.\n",
    "\n",
    "#### Proximal Policy Approximation (PPO) \n",
    "***TRPO surrogate function***  \n",
    "\n",
    "PPO is an improvement on Trust Region Policy Optimization (TRPO). TRPO maximizes a “surrogate” objective\n",
    "\n",
    "\\begin{equation}\n",
    "     L^{CPI}(\\theta)= \\hat{\\mathop{\\mathbb{E}}}_{t}\\bigg[\\frac{\\pi_{\\theta}(a_{t}|s_{t})}{\\pi_{\\theta_{old}}(a_{t}|s_{t})}\\hat{A}_{t}\\bigg]\n",
    "\\label{lcpi}\n",
    "\\end{equation}\n",
    "The same equation can be written as \n",
    "\n",
    "\\begin{equation}\n",
    "L^{CPI}(\\theta)= \\hat{\\mathop{\\mathbb{E}}}_{t}\\big[ratio_{t}(\\theta) \\hat{A}_{t}\\big]\n",
    "\\label{lcpi_2}\n",
    "\\end{equation}\n",
    "\n",
    "where $ratio_{t}(\\theta) = \\frac{\\pi_{\\theta}(a_{t}|s_{t})}{\\pi_{\\theta_{old}}(a_{t}|s_{t})}$\n"
   ]
  },
  {
   "cell_type": "markdown",
   "metadata": {},
   "source": [
    "***Clipped surrogate function***  \n",
    "\n",
    "PPO uses a modified TRPO objective, to penalize changes to the policy that move $ratio_{t}(\\theta)$ away from 1.\n",
    "\n",
    "\\begin{equation}\n",
    "     L^{CLIP}(\\theta)= \\hat{\\mathop{\\mathbb{E}}}_{t}\\big[\\min(ratio_{t}(\\theta)\\hat{A}_{t}, clip(ratio_{t}(\\theta), 1-\\epsilon, 1+\\epsilon)\\hat{A}_{t})\\big]\n",
    "\\label{lclip}\n",
    "\\end{equation}"
   ]
  },
  {
   "cell_type": "markdown",
   "metadata": {},
   "source": [
    "***Generalized Advantage Estimate (GAE)***\n",
    "\n",
    "\\begin{equation}\n",
    "\\hat{A}_{t} = \\delta_{t} + (\\gamma\\lambda)\\delta_{t+1} + ... + ... + (\\gamma\\lambda)^{T-t+1}\\delta_{T-1} \\\\\n",
    "\\label{ae}\n",
    "\\end{equation}\n",
    "\n",
    "where $\\delta_{t} = r_{t} + \\gamma V(s_{t+1}) - V(s_{t})$\n"
   ]
  },
  {
   "cell_type": "markdown",
   "metadata": {},
   "source": [
    "Where  \n",
    "    $\\theta$ is parameters of policy function,  \n",
    "    $\\gamma$ is Discount factor,  \n",
    "    $s_{t}$ is current state,    \n",
    "    $s_{t+1}$ is future state,    \n",
    "    $a_{t}$ is current action,  \n",
    "    $\\lambda$ is Generalized advantage estimate parameter  \n",
    "    $\\hat{A}_{t}$ Generalized advantage estimate\n",
    "    $V$ is the Value function  \n",
    "    $L$ Surrogate function  \n",
    "    $r_{t}$ is reward at timestep t"
   ]
  },
  {
   "cell_type": "markdown",
   "metadata": {},
   "source": [
    "#### Algorithm\n",
    "<img src=\"docs/algorithm.png\" style=\"width:600px;height:200px;\"> "
   ]
  },
  {
   "cell_type": "markdown",
   "metadata": {},
   "source": [
    "#### Model Architecture\n",
    "For the parameterized value function I used the following architecture where FC is a Fully connected layer and ReLu is a Rectified Linear Unit\n",
    "\n",
    "*Policy Network*\n",
    "\n",
    "\\begin{equation}\n",
    "    [State]_{(1\\times33)}  \\longrightarrow [FC]_{(33\\times32)} \\longrightarrow [ReLu] \\longrightarrow [FC]_{(32\\times32)} \\longrightarrow [ReLu] \\longrightarrow [FC]_{(32\\times4)} \\longrightarrow [Actions]_{(1\\times4)}\n",
    "\\label{model}\n",
    "\\end{equation}\n",
    "\n",
    "*Value Network*\n",
    "\n",
    "\\begin{equation}\n",
    "    [State]_{(1\\times33)}  \\longrightarrow [FC]_{(33\\times32)} \\longrightarrow [ReLu] \\longrightarrow [FC]_{(32\\times32)} \\longrightarrow [ReLu] \\longrightarrow [FC]_{(32\\times1)} \\longrightarrow [StateValue]_{(1\\times1)}\n",
    "\\label{valuemodel}\n",
    "\\end{equation}\n"
   ]
  },
  {
   "cell_type": "markdown",
   "metadata": {},
   "source": [
    "#### Hyperparameters\n",
    "\n",
    "|Parameter|Description|Value|\n",
    "|:---:|:---:|:---:|\n",
    "|PPO Epochs| Number of times a trajectory is used to train | 4|\n",
    "|$\\epsilon_{clip}$| Epsilon value of probability ratio clippling function|0.2|\n",
    "|Trajectory size|Maximum length of a trajectory| 33|\n",
    "|$\\gamma$|Discount factor|0.99|\n",
    "|$\\alpha_{policy}$| Policy network optimizer learning rate| 0.0001|\n",
    "|$\\alpha_{value}$| Value network optimizer learning rate| 0.0005|\n",
    "|$\\lambda$| Generalized Advantage Estimation (GAE) parameter| 0.6|\n"
   ]
  },
  {
   "cell_type": "code",
   "execution_count": 6,
   "metadata": {},
   "outputs": [],
   "source": [
    "agent = TrainedAgent(checkpoint_path='dist_ppo/checkpoints/dist_ppo.pth.tar')"
   ]
  },
  {
   "cell_type": "code",
   "execution_count": 7,
   "metadata": {},
   "outputs": [
    {
     "name": "stdout",
     "output_type": "stream",
     "text": [
      "Total score (averaged over agents) this episode: 35.910741697332355\n"
     ]
    }
   ],
   "source": [
    "scores = []\n",
    "for _ in range(200):\n",
    "    score = run_agent(env, agent)\n",
    "    scores.append(score)\n",
    "\n",
    "print('Total score (averaged over agents) this episode: {}'.format(np.mean(scores)))"
   ]
  },
  {
   "cell_type": "code",
   "execution_count": 8,
   "metadata": {},
   "outputs": [],
   "source": [
    "env.close()"
   ]
  },
  {
   "cell_type": "code",
   "execution_count": 9,
   "metadata": {},
   "outputs": [
    {
     "data": {
      "text/html": [
       "\n",
       "    <div class=\"bk-root\">\n",
       "        <a href=\"https://bokeh.pydata.org\" target=\"_blank\" class=\"bk-logo bk-logo-small bk-logo-notebook\"></a>\n",
       "        <span id=\"1001\">Loading BokehJS ...</span>\n",
       "    </div>"
      ]
     },
     "metadata": {},
     "output_type": "display_data"
    },
    {
     "data": {
      "application/javascript": [
       "\n",
       "(function(root) {\n",
       "  function now() {\n",
       "    return new Date();\n",
       "  }\n",
       "\n",
       "  var force = true;\n",
       "\n",
       "  if (typeof (root._bokeh_onload_callbacks) === \"undefined\" || force === true) {\n",
       "    root._bokeh_onload_callbacks = [];\n",
       "    root._bokeh_is_loading = undefined;\n",
       "  }\n",
       "\n",
       "  var JS_MIME_TYPE = 'application/javascript';\n",
       "  var HTML_MIME_TYPE = 'text/html';\n",
       "  var EXEC_MIME_TYPE = 'application/vnd.bokehjs_exec.v0+json';\n",
       "  var CLASS_NAME = 'output_bokeh rendered_html';\n",
       "\n",
       "  /**\n",
       "   * Render data to the DOM node\n",
       "   */\n",
       "  function render(props, node) {\n",
       "    var script = document.createElement(\"script\");\n",
       "    node.appendChild(script);\n",
       "  }\n",
       "\n",
       "  /**\n",
       "   * Handle when an output is cleared or removed\n",
       "   */\n",
       "  function handleClearOutput(event, handle) {\n",
       "    var cell = handle.cell;\n",
       "\n",
       "    var id = cell.output_area._bokeh_element_id;\n",
       "    var server_id = cell.output_area._bokeh_server_id;\n",
       "    // Clean up Bokeh references\n",
       "    if (id != null && id in Bokeh.index) {\n",
       "      Bokeh.index[id].model.document.clear();\n",
       "      delete Bokeh.index[id];\n",
       "    }\n",
       "\n",
       "    if (server_id !== undefined) {\n",
       "      // Clean up Bokeh references\n",
       "      var cmd = \"from bokeh.io.state import curstate; print(curstate().uuid_to_server['\" + server_id + \"'].get_sessions()[0].document.roots[0]._id)\";\n",
       "      cell.notebook.kernel.execute(cmd, {\n",
       "        iopub: {\n",
       "          output: function(msg) {\n",
       "            var id = msg.content.text.trim();\n",
       "            if (id in Bokeh.index) {\n",
       "              Bokeh.index[id].model.document.clear();\n",
       "              delete Bokeh.index[id];\n",
       "            }\n",
       "          }\n",
       "        }\n",
       "      });\n",
       "      // Destroy server and session\n",
       "      var cmd = \"import bokeh.io.notebook as ion; ion.destroy_server('\" + server_id + \"')\";\n",
       "      cell.notebook.kernel.execute(cmd);\n",
       "    }\n",
       "  }\n",
       "\n",
       "  /**\n",
       "   * Handle when a new output is added\n",
       "   */\n",
       "  function handleAddOutput(event, handle) {\n",
       "    var output_area = handle.output_area;\n",
       "    var output = handle.output;\n",
       "\n",
       "    // limit handleAddOutput to display_data with EXEC_MIME_TYPE content only\n",
       "    if ((output.output_type != \"display_data\") || (!output.data.hasOwnProperty(EXEC_MIME_TYPE))) {\n",
       "      return\n",
       "    }\n",
       "\n",
       "    var toinsert = output_area.element.find(\".\" + CLASS_NAME.split(' ')[0]);\n",
       "\n",
       "    if (output.metadata[EXEC_MIME_TYPE][\"id\"] !== undefined) {\n",
       "      toinsert[toinsert.length - 1].firstChild.textContent = output.data[JS_MIME_TYPE];\n",
       "      // store reference to embed id on output_area\n",
       "      output_area._bokeh_element_id = output.metadata[EXEC_MIME_TYPE][\"id\"];\n",
       "    }\n",
       "    if (output.metadata[EXEC_MIME_TYPE][\"server_id\"] !== undefined) {\n",
       "      var bk_div = document.createElement(\"div\");\n",
       "      bk_div.innerHTML = output.data[HTML_MIME_TYPE];\n",
       "      var script_attrs = bk_div.children[0].attributes;\n",
       "      for (var i = 0; i < script_attrs.length; i++) {\n",
       "        toinsert[toinsert.length - 1].firstChild.setAttribute(script_attrs[i].name, script_attrs[i].value);\n",
       "      }\n",
       "      // store reference to server id on output_area\n",
       "      output_area._bokeh_server_id = output.metadata[EXEC_MIME_TYPE][\"server_id\"];\n",
       "    }\n",
       "  }\n",
       "\n",
       "  function register_renderer(events, OutputArea) {\n",
       "\n",
       "    function append_mime(data, metadata, element) {\n",
       "      // create a DOM node to render to\n",
       "      var toinsert = this.create_output_subarea(\n",
       "        metadata,\n",
       "        CLASS_NAME,\n",
       "        EXEC_MIME_TYPE\n",
       "      );\n",
       "      this.keyboard_manager.register_events(toinsert);\n",
       "      // Render to node\n",
       "      var props = {data: data, metadata: metadata[EXEC_MIME_TYPE]};\n",
       "      render(props, toinsert[toinsert.length - 1]);\n",
       "      element.append(toinsert);\n",
       "      return toinsert\n",
       "    }\n",
       "\n",
       "    /* Handle when an output is cleared or removed */\n",
       "    events.on('clear_output.CodeCell', handleClearOutput);\n",
       "    events.on('delete.Cell', handleClearOutput);\n",
       "\n",
       "    /* Handle when a new output is added */\n",
       "    events.on('output_added.OutputArea', handleAddOutput);\n",
       "\n",
       "    /**\n",
       "     * Register the mime type and append_mime function with output_area\n",
       "     */\n",
       "    OutputArea.prototype.register_mime_type(EXEC_MIME_TYPE, append_mime, {\n",
       "      /* Is output safe? */\n",
       "      safe: true,\n",
       "      /* Index of renderer in `output_area.display_order` */\n",
       "      index: 0\n",
       "    });\n",
       "  }\n",
       "\n",
       "  // register the mime type if in Jupyter Notebook environment and previously unregistered\n",
       "  if (root.Jupyter !== undefined) {\n",
       "    var events = require('base/js/events');\n",
       "    var OutputArea = require('notebook/js/outputarea').OutputArea;\n",
       "\n",
       "    if (OutputArea.prototype.mime_types().indexOf(EXEC_MIME_TYPE) == -1) {\n",
       "      register_renderer(events, OutputArea);\n",
       "    }\n",
       "  }\n",
       "\n",
       "  \n",
       "  if (typeof (root._bokeh_timeout) === \"undefined\" || force === true) {\n",
       "    root._bokeh_timeout = Date.now() + 5000;\n",
       "    root._bokeh_failed_load = false;\n",
       "  }\n",
       "\n",
       "  var NB_LOAD_WARNING = {'data': {'text/html':\n",
       "     \"<div style='background-color: #fdd'>\\n\"+\n",
       "     \"<p>\\n\"+\n",
       "     \"BokehJS does not appear to have successfully loaded. If loading BokehJS from CDN, this \\n\"+\n",
       "     \"may be due to a slow or bad network connection. Possible fixes:\\n\"+\n",
       "     \"</p>\\n\"+\n",
       "     \"<ul>\\n\"+\n",
       "     \"<li>re-rerun `output_notebook()` to attempt to load from CDN again, or</li>\\n\"+\n",
       "     \"<li>use INLINE resources instead, as so:</li>\\n\"+\n",
       "     \"</ul>\\n\"+\n",
       "     \"<code>\\n\"+\n",
       "     \"from bokeh.resources import INLINE\\n\"+\n",
       "     \"output_notebook(resources=INLINE)\\n\"+\n",
       "     \"</code>\\n\"+\n",
       "     \"</div>\"}};\n",
       "\n",
       "  function display_loaded() {\n",
       "    var el = document.getElementById(\"1001\");\n",
       "    if (el != null) {\n",
       "      el.textContent = \"BokehJS is loading...\";\n",
       "    }\n",
       "    if (root.Bokeh !== undefined) {\n",
       "      if (el != null) {\n",
       "        el.textContent = \"BokehJS \" + root.Bokeh.version + \" successfully loaded.\";\n",
       "      }\n",
       "    } else if (Date.now() < root._bokeh_timeout) {\n",
       "      setTimeout(display_loaded, 100)\n",
       "    }\n",
       "  }\n",
       "\n",
       "\n",
       "  function run_callbacks() {\n",
       "    try {\n",
       "      root._bokeh_onload_callbacks.forEach(function(callback) { callback() });\n",
       "    }\n",
       "    finally {\n",
       "      delete root._bokeh_onload_callbacks\n",
       "    }\n",
       "    console.info(\"Bokeh: all callbacks have finished\");\n",
       "  }\n",
       "\n",
       "  function load_libs(js_urls, callback) {\n",
       "    root._bokeh_onload_callbacks.push(callback);\n",
       "    if (root._bokeh_is_loading > 0) {\n",
       "      console.log(\"Bokeh: BokehJS is being loaded, scheduling callback at\", now());\n",
       "      return null;\n",
       "    }\n",
       "    if (js_urls == null || js_urls.length === 0) {\n",
       "      run_callbacks();\n",
       "      return null;\n",
       "    }\n",
       "    console.log(\"Bokeh: BokehJS not loaded, scheduling load and callback at\", now());\n",
       "    root._bokeh_is_loading = js_urls.length;\n",
       "    for (var i = 0; i < js_urls.length; i++) {\n",
       "      var url = js_urls[i];\n",
       "      var s = document.createElement('script');\n",
       "      s.src = url;\n",
       "      s.async = false;\n",
       "      s.onreadystatechange = s.onload = function() {\n",
       "        root._bokeh_is_loading--;\n",
       "        if (root._bokeh_is_loading === 0) {\n",
       "          console.log(\"Bokeh: all BokehJS libraries loaded\");\n",
       "          run_callbacks()\n",
       "        }\n",
       "      };\n",
       "      s.onerror = function() {\n",
       "        console.warn(\"failed to load library \" + url);\n",
       "      };\n",
       "      console.log(\"Bokeh: injecting script tag for BokehJS library: \", url);\n",
       "      document.getElementsByTagName(\"head\")[0].appendChild(s);\n",
       "    }\n",
       "  };var element = document.getElementById(\"1001\");\n",
       "  if (element == null) {\n",
       "    console.log(\"Bokeh: ERROR: autoload.js configured with elementid '1001' but no matching script tag was found. \")\n",
       "    return false;\n",
       "  }\n",
       "\n",
       "  var js_urls = [\"https://cdn.pydata.org/bokeh/release/bokeh-1.0.2.min.js\", \"https://cdn.pydata.org/bokeh/release/bokeh-widgets-1.0.2.min.js\", \"https://cdn.pydata.org/bokeh/release/bokeh-tables-1.0.2.min.js\", \"https://cdn.pydata.org/bokeh/release/bokeh-gl-1.0.2.min.js\"];\n",
       "\n",
       "  var inline_js = [\n",
       "    function(Bokeh) {\n",
       "      Bokeh.set_log_level(\"info\");\n",
       "    },\n",
       "    \n",
       "    function(Bokeh) {\n",
       "      \n",
       "    },\n",
       "    function(Bokeh) {\n",
       "      console.log(\"Bokeh: injecting CSS: https://cdn.pydata.org/bokeh/release/bokeh-1.0.2.min.css\");\n",
       "      Bokeh.embed.inject_css(\"https://cdn.pydata.org/bokeh/release/bokeh-1.0.2.min.css\");\n",
       "      console.log(\"Bokeh: injecting CSS: https://cdn.pydata.org/bokeh/release/bokeh-widgets-1.0.2.min.css\");\n",
       "      Bokeh.embed.inject_css(\"https://cdn.pydata.org/bokeh/release/bokeh-widgets-1.0.2.min.css\");\n",
       "      console.log(\"Bokeh: injecting CSS: https://cdn.pydata.org/bokeh/release/bokeh-tables-1.0.2.min.css\");\n",
       "      Bokeh.embed.inject_css(\"https://cdn.pydata.org/bokeh/release/bokeh-tables-1.0.2.min.css\");\n",
       "    }\n",
       "  ];\n",
       "\n",
       "  function run_inline_js() {\n",
       "    \n",
       "    if ((root.Bokeh !== undefined) || (force === true)) {\n",
       "      for (var i = 0; i < inline_js.length; i++) {\n",
       "        inline_js[i].call(root, root.Bokeh);\n",
       "      }if (force === true) {\n",
       "        display_loaded();\n",
       "      }} else if (Date.now() < root._bokeh_timeout) {\n",
       "      setTimeout(run_inline_js, 100);\n",
       "    } else if (!root._bokeh_failed_load) {\n",
       "      console.log(\"Bokeh: BokehJS failed to load within specified timeout.\");\n",
       "      root._bokeh_failed_load = true;\n",
       "    } else if (force !== true) {\n",
       "      var cell = $(document.getElementById(\"1001\")).parents('.cell').data().cell;\n",
       "      cell.output_area.append_execute_result(NB_LOAD_WARNING)\n",
       "    }\n",
       "\n",
       "  }\n",
       "\n",
       "  if (root._bokeh_is_loading === 0) {\n",
       "    console.log(\"Bokeh: BokehJS loaded, going straight to plotting\");\n",
       "    run_inline_js();\n",
       "  } else {\n",
       "    load_libs(js_urls, function() {\n",
       "      console.log(\"Bokeh: BokehJS plotting callback run at\", now());\n",
       "      run_inline_js();\n",
       "    });\n",
       "  }\n",
       "}(window));"
      ],
      "application/vnd.bokehjs_load.v0+json": "\n(function(root) {\n  function now() {\n    return new Date();\n  }\n\n  var force = true;\n\n  if (typeof (root._bokeh_onload_callbacks) === \"undefined\" || force === true) {\n    root._bokeh_onload_callbacks = [];\n    root._bokeh_is_loading = undefined;\n  }\n\n  \n\n  \n  if (typeof (root._bokeh_timeout) === \"undefined\" || force === true) {\n    root._bokeh_timeout = Date.now() + 5000;\n    root._bokeh_failed_load = false;\n  }\n\n  var NB_LOAD_WARNING = {'data': {'text/html':\n     \"<div style='background-color: #fdd'>\\n\"+\n     \"<p>\\n\"+\n     \"BokehJS does not appear to have successfully loaded. If loading BokehJS from CDN, this \\n\"+\n     \"may be due to a slow or bad network connection. Possible fixes:\\n\"+\n     \"</p>\\n\"+\n     \"<ul>\\n\"+\n     \"<li>re-rerun `output_notebook()` to attempt to load from CDN again, or</li>\\n\"+\n     \"<li>use INLINE resources instead, as so:</li>\\n\"+\n     \"</ul>\\n\"+\n     \"<code>\\n\"+\n     \"from bokeh.resources import INLINE\\n\"+\n     \"output_notebook(resources=INLINE)\\n\"+\n     \"</code>\\n\"+\n     \"</div>\"}};\n\n  function display_loaded() {\n    var el = document.getElementById(\"1001\");\n    if (el != null) {\n      el.textContent = \"BokehJS is loading...\";\n    }\n    if (root.Bokeh !== undefined) {\n      if (el != null) {\n        el.textContent = \"BokehJS \" + root.Bokeh.version + \" successfully loaded.\";\n      }\n    } else if (Date.now() < root._bokeh_timeout) {\n      setTimeout(display_loaded, 100)\n    }\n  }\n\n\n  function run_callbacks() {\n    try {\n      root._bokeh_onload_callbacks.forEach(function(callback) { callback() });\n    }\n    finally {\n      delete root._bokeh_onload_callbacks\n    }\n    console.info(\"Bokeh: all callbacks have finished\");\n  }\n\n  function load_libs(js_urls, callback) {\n    root._bokeh_onload_callbacks.push(callback);\n    if (root._bokeh_is_loading > 0) {\n      console.log(\"Bokeh: BokehJS is being loaded, scheduling callback at\", now());\n      return null;\n    }\n    if (js_urls == null || js_urls.length === 0) {\n      run_callbacks();\n      return null;\n    }\n    console.log(\"Bokeh: BokehJS not loaded, scheduling load and callback at\", now());\n    root._bokeh_is_loading = js_urls.length;\n    for (var i = 0; i < js_urls.length; i++) {\n      var url = js_urls[i];\n      var s = document.createElement('script');\n      s.src = url;\n      s.async = false;\n      s.onreadystatechange = s.onload = function() {\n        root._bokeh_is_loading--;\n        if (root._bokeh_is_loading === 0) {\n          console.log(\"Bokeh: all BokehJS libraries loaded\");\n          run_callbacks()\n        }\n      };\n      s.onerror = function() {\n        console.warn(\"failed to load library \" + url);\n      };\n      console.log(\"Bokeh: injecting script tag for BokehJS library: \", url);\n      document.getElementsByTagName(\"head\")[0].appendChild(s);\n    }\n  };var element = document.getElementById(\"1001\");\n  if (element == null) {\n    console.log(\"Bokeh: ERROR: autoload.js configured with elementid '1001' but no matching script tag was found. \")\n    return false;\n  }\n\n  var js_urls = [\"https://cdn.pydata.org/bokeh/release/bokeh-1.0.2.min.js\", \"https://cdn.pydata.org/bokeh/release/bokeh-widgets-1.0.2.min.js\", \"https://cdn.pydata.org/bokeh/release/bokeh-tables-1.0.2.min.js\", \"https://cdn.pydata.org/bokeh/release/bokeh-gl-1.0.2.min.js\"];\n\n  var inline_js = [\n    function(Bokeh) {\n      Bokeh.set_log_level(\"info\");\n    },\n    \n    function(Bokeh) {\n      \n    },\n    function(Bokeh) {\n      console.log(\"Bokeh: injecting CSS: https://cdn.pydata.org/bokeh/release/bokeh-1.0.2.min.css\");\n      Bokeh.embed.inject_css(\"https://cdn.pydata.org/bokeh/release/bokeh-1.0.2.min.css\");\n      console.log(\"Bokeh: injecting CSS: https://cdn.pydata.org/bokeh/release/bokeh-widgets-1.0.2.min.css\");\n      Bokeh.embed.inject_css(\"https://cdn.pydata.org/bokeh/release/bokeh-widgets-1.0.2.min.css\");\n      console.log(\"Bokeh: injecting CSS: https://cdn.pydata.org/bokeh/release/bokeh-tables-1.0.2.min.css\");\n      Bokeh.embed.inject_css(\"https://cdn.pydata.org/bokeh/release/bokeh-tables-1.0.2.min.css\");\n    }\n  ];\n\n  function run_inline_js() {\n    \n    if ((root.Bokeh !== undefined) || (force === true)) {\n      for (var i = 0; i < inline_js.length; i++) {\n        inline_js[i].call(root, root.Bokeh);\n      }if (force === true) {\n        display_loaded();\n      }} else if (Date.now() < root._bokeh_timeout) {\n      setTimeout(run_inline_js, 100);\n    } else if (!root._bokeh_failed_load) {\n      console.log(\"Bokeh: BokehJS failed to load within specified timeout.\");\n      root._bokeh_failed_load = true;\n    } else if (force !== true) {\n      var cell = $(document.getElementById(\"1001\")).parents('.cell').data().cell;\n      cell.output_area.append_execute_result(NB_LOAD_WARNING)\n    }\n\n  }\n\n  if (root._bokeh_is_loading === 0) {\n    console.log(\"Bokeh: BokehJS loaded, going straight to plotting\");\n    run_inline_js();\n  } else {\n    load_libs(js_urls, function() {\n      console.log(\"Bokeh: BokehJS plotting callback run at\", now());\n      run_inline_js();\n    });\n  }\n}(window));"
     },
     "metadata": {},
     "output_type": "display_data"
    }
   ],
   "source": [
    "from bokeh.plotting import figure \n",
    "from bokeh.models import Legend\n",
    "from bokeh.layouts import column\n",
    "from bokeh.io import output_notebook, show\n",
    "output_notebook()"
   ]
  },
  {
   "cell_type": "markdown",
   "metadata": {},
   "source": [
    "### Results"
   ]
  },
  {
   "cell_type": "code",
   "execution_count": 34,
   "metadata": {},
   "outputs": [
    {
     "data": {
      "text/html": [
       "\n",
       "\n",
       "\n",
       "\n",
       "\n",
       "\n",
       "  <div class=\"bk-root\" id=\"e4688180-f851-42fe-b94e-329457688e56\"></div>\n"
      ]
     },
     "metadata": {},
     "output_type": "display_data"
    },
    {
     "data": {
      "application/javascript": [
       "(function(root) {\n",
       "  function embed_document(root) {\n",
       "    \n",
       "  var docs_json = {\"3678dc9d-3e89-44e6-bd82-b9135af60336\":{\"roots\":{\"references\":[{\"attributes\":{\"children\":[{\"id\":\"3587\",\"subtype\":\"Figure\",\"type\":\"Plot\"},{\"id\":\"3626\",\"subtype\":\"Figure\",\"type\":\"Plot\"}]},\"id\":\"3665\",\"type\":\"Column\"},{\"attributes\":{},\"id\":\"3606\",\"type\":\"PanTool\"},{\"attributes\":{\"plot\":{\"id\":\"3626\",\"subtype\":\"Figure\",\"type\":\"Plot\"},\"ticker\":{\"id\":\"3636\",\"type\":\"BasicTicker\"}},\"id\":\"3639\",\"type\":\"Grid\"},{\"attributes\":{},\"id\":\"3607\",\"type\":\"WheelZoomTool\"},{\"attributes\":{\"axis_label\":\"Moving Avg Episodic Reward over 20 arms\",\"formatter\":{\"id\":\"3847\",\"type\":\"BasicTickFormatter\"},\"plot\":{\"id\":\"3626\",\"subtype\":\"Figure\",\"type\":\"Plot\"},\"ticker\":{\"id\":\"3641\",\"type\":\"BasicTicker\"}},\"id\":\"3640\",\"type\":\"LinearAxis\"},{\"attributes\":{},\"id\":\"3850\",\"type\":\"Selection\"},{\"attributes\":{},\"id\":\"3841\",\"type\":\"BasicTickFormatter\"},{\"attributes\":{\"overlay\":{\"id\":\"3614\",\"type\":\"BoxAnnotation\"}},\"id\":\"3608\",\"type\":\"BoxZoomTool\"},{\"attributes\":{},\"id\":\"3641\",\"type\":\"BasicTicker\"},{\"attributes\":{},\"id\":\"3609\",\"type\":\"SaveTool\"},{\"attributes\":{},\"id\":\"3843\",\"type\":\"BasicTickFormatter\"},{\"attributes\":{\"dimension\":1,\"plot\":{\"id\":\"3626\",\"subtype\":\"Figure\",\"type\":\"Plot\"},\"ticker\":{\"id\":\"3641\",\"type\":\"BasicTicker\"}},\"id\":\"3644\",\"type\":\"Grid\"},{\"attributes\":{},\"id\":\"3610\",\"type\":\"ResetTool\"},{\"attributes\":{},\"id\":\"3845\",\"type\":\"BasicTickFormatter\"},{\"attributes\":{\"line_alpha\":0.1,\"line_color\":\"#1f77b4\",\"line_width\":2,\"x\":{\"field\":\"x\"},\"y\":{\"field\":\"y\"}},\"id\":\"3662\",\"type\":\"Line\"},{\"attributes\":{\"plot\":null,\"text\":\"\"},\"id\":\"3837\",\"type\":\"Title\"},{\"attributes\":{\"callback\":null,\"data\":{\"x\":[0,1,2,3,4,5,6,7,8,9,10,11,12,13,14,15,16,17,18,19,20,21,22,23,24,25,26,27,28,29,30,31,32,33,34,35,36,37,38,39,40,41,42,43,44,45,46,47,48,49,50,51,52,53,54,55,56,57,58,59,60,61,62,63,64,65,66,67,68,69,70,71,72,73,74,75,76,77,78,79,80,81,82,83,84,85,86,87,88,89,90,91,92,93,94,95,96,97,98,99,100,101,102,103,104,105,106,107,108,109,110,111,112,113,114,115,116,117,118,119,120,121,122,123,124,125,126,127,128,129,130,131,132,133,134,135,136,137,138,139,140,141,142,143,144,145,146,147,148,149,150,151,152,153,154,155,156,157,158,159,160,161,162,163,164,165,166,167,168,169,170,171,172,173,174,175,176,177,178,179,180,181,182,183,184,185,186,187,188,189,190,191,192,193,194,195,196,197,198,199],\"y\":[35.781999200209974,37.07649917127564,36.12699919249862,35.441999207809566,37.92049915241078,35.64449920328334,36.193499191012236,33.997999240085484,33.765499245282264,35.25799921192229,37.08849917100743,37.89049915308133,35.587999204546215,36.01499919500202,36.19799919091165,35.622999203763904,36.10949919288978,36.054499194119124,37.46699916254729,34.29449923345819,36.10549919297919,35.605999204143885,38.41099914144725,36.48899918440729,35.11799921505153,34.74599922336638,35.90499919746071,36.91999917477369,36.891499175410715,31.768999289907516,33.17999925836921,35.997499195393175,37.505999161675575,35.574999204836786,36.97049917364493,35.80199919976294,34.94649921888485,34.23749923473224,32.60149927129969,34.271999233961104,34.08149923821911,33.46849925192073,38.084999148733914,32.96249926323071,33.92099924180657,34.82599922157824,35.97049919599667,34.713499224092814,35.93099919687957,36.342499187681824,35.34449920998886,37.671499157976356,37.27449916685,36.58749918220565,37.56349916039035,38.49849913949147,33.91099924203009,34.95949921859428,36.18049919130281,37.124999170191586,35.79899919982999,36.84399917647242,37.22399916797876,36.198999190889296,38.12299914788455,36.48349918453023,36.83349917670712,33.81549924416468,38.10349914832041,35.09299921561033,37.863999153673646,37.90749915270135,36.37649918692186,36.68149918010458,34.91599921956659,36.3274991880171,35.05599921643734,34.94249921897426,35.662999202869834,36.29249918879941,37.80949915489182,35.35449920976534,35.0344992169179,35.83499919902533,34.77899922262877,35.66749920276925,36.46599918492139,35.93599919676781,35.435499207954855,33.68899924699217,35.55399920530617,33.99349924018607,36.18949919110164,34.289999233558774,36.12999919243157,38.321499143447724,35.43999920785427,34.49699922893196,36.14349919212982,36.34399918764829,36.80049917744473,33.57499924954027,36.415999186038974,37.93449915209785,35.47749920701608,37.162499169353396,36.306499188486484,33.556499249953774,37.56749916030094,35.618999203853306,35.36249920958653,35.942999196611346,37.270999166928235,34.527499228250235,35.99449919546023,36.82599917687476,36.08449919344857,35.43749920791015,35.019999217242,36.8144991771318,34.34749923227355,33.77499924506992,37.40199916400015,33.31499925535172,38.74449913399294,37.88899915311485,36.712999179400505,35.50049920650199,35.59999920427799,36.021999194845556,34.37049923175946,37.03349917223677,35.03349921694026,36.91099917497486,36.003999195247886,35.1524992142804,36.002499195281416,36.49799918420613,36.196999190934,36.7874991777353,35.23449921244755,36.60399918183684,35.769999200478196,36.55899918284267,34.92449921937659,35.740499201137574,36.77599917799235,36.70699917953461,36.096999193169175,37.05349917178974,36.15849919179455,34.24399923458695,36.45049918526784,37.66699915807694,37.65349915837869,34.451499229948965,34.84049922125414,34.67249922500923,33.13699925933033,36.63099918123335,36.45149918524548,38.56049913810566,36.97349917357788,36.60899918172508,34.63099922593683,38.15949914706871,36.132999192364515,34.101499237772074,36.9449991742149,35.80699919965118,36.1264991925098,37.664999158121645,36.427499185781926,37.79849915513769,36.92699917461723,36.170499191526325,33.41849925303832,36.4994991841726,35.89899919759482,34.91049921968952,34.741999223455785,34.22799923494458,34.141499236878005,38.14849914731458,36.60549918180332,37.21049916828051,33.40949925323948,35.02149921720847,35.630499203596266,37.299499166291206,36.87749917572364,38.11549914805219,36.63899918105453,34.22599923498929,32.6824992694892,35.43199920803308,37.644499158579855,34.7194992239587,37.86599915362895,35.46999920718372]},\"selected\":{\"id\":\"3850\",\"type\":\"Selection\"},\"selection_policy\":{\"id\":\"3851\",\"type\":\"UnionRenderers\"}},\"id\":\"3621\",\"type\":\"ColumnDataSource\"},{\"attributes\":{},\"id\":\"3611\",\"type\":\"HelpTool\"},{\"attributes\":{},\"id\":\"3847\",\"type\":\"BasicTickFormatter\"},{\"attributes\":{},\"id\":\"3602\",\"type\":\"BasicTicker\"},{\"attributes\":{\"line_color\":\"#1f77b4\",\"line_width\":2,\"x\":{\"field\":\"x\"},\"y\":{\"field\":\"y\"}},\"id\":\"3661\",\"type\":\"Line\"},{\"attributes\":{},\"id\":\"3851\",\"type\":\"UnionRenderers\"},{\"attributes\":{\"callback\":null,\"data\":{\"x\":[0,1,2,3,4,5,6,7,8,9,10,11,12,13,14,15,16,17,18,19,20,21,22,23,24,25,26,27,28,29,30,31,32,33,34,35,36,37,38,39,40,41,42,43,44,45,46,47,48,49,50,51,52,53,54,55,56,57,58,59,60,61,62,63,64,65,66,67,68,69,70,71,72,73,74,75,76,77,78,79,80,81,82,83,84,85,86,87,88,89,90,91,92,93,94,95,96,97,98,99,100,101,102,103,104,105,106,107,108,109,110,111,112,113,114,115,116,117,118,119,120,121,122,123,124,125,126,127,128,129,130,131,132,133,134,135,136,137,138,139,140,141,142,143,144,145,146,147,148,149,150,151,152,153,154,155,156,157,158,159,160,161,162,163,164,165,166,167,168,169,170,171,172,173,174,175,176,177,178,179,180,181,182,183,184,185,186,187,188,189,190,191,192,193,194,195,196,197,198,199],\"y\":[35.781999200209974,36.429249185742805,36.328499187994744,36.10687419294845,36.46959918484092,36.33208252124799,36.31228490264288,36.02299919482321,35.77216586709644,35.720749201579025,35.8450901078907,36.01554086165658,35.98265304187886,35.98496348138766,35.99916586202259,35.97565544588142,35.98352860747015,35.98747141783954,36.06534129913994,35.976799195855854,35.982927767147444,35.96579465064728,36.07210788937772,36.089478360003945,36.05061919420585,36.00044150301972,35.99690660281383,36.02987419466954,36.059585400901994,35.91656586386885,35.828289521755956,35.83357732405712,35.88425677368192,35.87516096283353,35.90645634028529,35.90355475304855,35.87768838726035,35.834525514825394,35.75162740601704,35.71463670171564,35.67480408065475,35.62227301330394,35.6795457141279,35.61779465842569,35.58008809361193,35.56369485726337,35.57235026872578,35.55445753862926,35.56214206226702,35.577749204775316,35.573175675465784,35.613528050129446,35.64486712780342,35.662323276959015,35.696890111203224,35.746918843851226,35.7147097280298,35.701688857177466,35.709804286569415,35.73339086796312,35.73446641438717,35.752362104098225,35.77572142257252,35.78233513770247,35.81834535324373,35.828423441596556,35.84342457197133,35.81360214068006,35.846789053834264,35.83602062757392,35.86458370540631,35.8929575310632,35.89958138936264,35.91014784599429,35.89689253097525,35.90255840804159,35.89156413282595,35.87939663393041,35.876657425942305,35.88185544797801,35.90565351843374,35.89893212442559,35.88851727011827,35.887880150224305,35.874834492252596,35.87242361679348,35.879246324473115,35.879891243476465,35.874898074538024,35.85061030978751,35.847350847100905,35.82720028615618,35.831095973306134,35.81470132713861,35.818020252036426,35.84409815715529,35.83993218860579,35.8262287910581,35.82943354258408,35.83457919903472,35.84476419880707,35.80974919958972,35.812639199525115,35.837564198968,35.81313419951405,35.82831419917475,35.8294441991495,35.825029199248185,35.86304919839837,35.866659198317684,35.84939919870347,35.829924199138766,35.84675419876259,35.83187919909507,35.82984419914055,35.84187419887166,35.841624198877255,35.83545419901517,35.810984199562114,35.83618419899884,35.818604199391785,35.80029419980105,35.79020420002658,35.75846420073602,35.79472919992544,35.82615919922293,35.83423919904232,35.82004419935961,35.80712919964827,35.84965919869765,35.86156419843156,35.87192419819999,35.847199198752634,35.86055919845401,35.85089419867005,35.844399198815225,35.85495919857919,35.877564198073934,35.913519197270276,35.938674196708014,35.9502041964503,35.98155919574946,35.958409196266906,35.99437419546303,36.00440919523873,36.013554195034324,36.02160919485427,36.041544194408694,36.04320419437159,36.05031419421267,36.058454194030716,36.02417919479683,36.01593919498101,36.02673419473972,36.0276341947196,35.987164195624175,35.99645919541642,35.99358919548057,35.96315419616085,35.95821419627126,35.96473919612542,35.981904195741755,35.97939919579774,35.9834991957061,35.94857919648662,35.965339196112005,35.95833419626858,35.96119419620465,35.949609196463605,35.95674919630401,35.93937419669238,35.936949196746575,35.937459196735176,35.948629196485506,35.96873919603601,35.9671691960711,35.95079419643711,35.966364196089096,35.96872419603635,35.95490419634525,35.92422919703088,35.912964197282676,35.90403419748228,35.927169196965174,35.94543419655692,35.96086419621203,35.930299196895206,35.92115419709962,35.923104197056034,35.95920919624903,35.9724441959532,36.01366419503186,36.01815919493139,36.01751919494569,35.98304419571627,35.954149196362124,35.97619419586938,35.97841919581965,35.995644195434636,35.98690419562999]},\"selected\":{\"id\":\"3853\",\"type\":\"Selection\"},\"selection_policy\":{\"id\":\"3854\",\"type\":\"UnionRenderers\"}},\"id\":\"3660\",\"type\":\"ColumnDataSource\"},{\"attributes\":{\"active_drag\":\"auto\",\"active_inspect\":\"auto\",\"active_multi\":null,\"active_scroll\":\"auto\",\"active_tap\":\"auto\",\"tools\":[{\"id\":\"3606\",\"type\":\"PanTool\"},{\"id\":\"3607\",\"type\":\"WheelZoomTool\"},{\"id\":\"3608\",\"type\":\"BoxZoomTool\"},{\"id\":\"3609\",\"type\":\"SaveTool\"},{\"id\":\"3610\",\"type\":\"ResetTool\"},{\"id\":\"3611\",\"type\":\"HelpTool\"}]},\"id\":\"3612\",\"type\":\"Toolbar\"},{\"attributes\":{\"dimension\":1,\"plot\":{\"id\":\"3587\",\"subtype\":\"Figure\",\"type\":\"Plot\"},\"ticker\":{\"id\":\"3602\",\"type\":\"BasicTicker\"}},\"id\":\"3605\",\"type\":\"Grid\"},{\"attributes\":{\"active_drag\":\"auto\",\"active_inspect\":\"auto\",\"active_multi\":null,\"active_scroll\":\"auto\",\"active_tap\":\"auto\",\"tools\":[{\"id\":\"3645\",\"type\":\"PanTool\"},{\"id\":\"3646\",\"type\":\"WheelZoomTool\"},{\"id\":\"3647\",\"type\":\"BoxZoomTool\"},{\"id\":\"3648\",\"type\":\"SaveTool\"},{\"id\":\"3649\",\"type\":\"ResetTool\"},{\"id\":\"3650\",\"type\":\"HelpTool\"}]},\"id\":\"3651\",\"type\":\"Toolbar\"},{\"attributes\":{\"below\":[{\"id\":\"3596\",\"type\":\"LinearAxis\"}],\"left\":[{\"id\":\"3601\",\"type\":\"LinearAxis\"}],\"plot_height\":300,\"plot_width\":900,\"renderers\":[{\"id\":\"3596\",\"type\":\"LinearAxis\"},{\"id\":\"3600\",\"type\":\"Grid\"},{\"id\":\"3601\",\"type\":\"LinearAxis\"},{\"id\":\"3605\",\"type\":\"Grid\"},{\"id\":\"3614\",\"type\":\"BoxAnnotation\"},{\"id\":\"3624\",\"type\":\"GlyphRenderer\"}],\"title\":{\"id\":\"3837\",\"type\":\"Title\"},\"toolbar\":{\"id\":\"3612\",\"type\":\"Toolbar\"},\"x_range\":{\"id\":\"3588\",\"type\":\"DataRange1d\"},\"x_scale\":{\"id\":\"3592\",\"type\":\"LinearScale\"},\"y_range\":{\"id\":\"3590\",\"type\":\"DataRange1d\"},\"y_scale\":{\"id\":\"3594\",\"type\":\"LinearScale\"}},\"id\":\"3587\",\"subtype\":\"Figure\",\"type\":\"Plot\"},{\"attributes\":{\"bottom_units\":\"screen\",\"fill_alpha\":{\"value\":0.5},\"fill_color\":{\"value\":\"lightgrey\"},\"left_units\":\"screen\",\"level\":\"overlay\",\"line_alpha\":{\"value\":1.0},\"line_color\":{\"value\":\"black\"},\"line_dash\":[4,4],\"line_width\":{\"value\":2},\"plot\":null,\"render_mode\":\"css\",\"right_units\":\"screen\",\"top_units\":\"screen\"},\"id\":\"3614\",\"type\":\"BoxAnnotation\"},{\"attributes\":{\"callback\":null},\"id\":\"3588\",\"type\":\"DataRange1d\"},{\"attributes\":{},\"id\":\"3645\",\"type\":\"PanTool\"},{\"attributes\":{},\"id\":\"3853\",\"type\":\"Selection\"},{\"attributes\":{},\"id\":\"3854\",\"type\":\"UnionRenderers\"},{\"attributes\":{},\"id\":\"3646\",\"type\":\"WheelZoomTool\"},{\"attributes\":{\"below\":[{\"id\":\"3635\",\"type\":\"LinearAxis\"}],\"left\":[{\"id\":\"3640\",\"type\":\"LinearAxis\"}],\"plot_height\":300,\"plot_width\":900,\"renderers\":[{\"id\":\"3635\",\"type\":\"LinearAxis\"},{\"id\":\"3639\",\"type\":\"Grid\"},{\"id\":\"3640\",\"type\":\"LinearAxis\"},{\"id\":\"3644\",\"type\":\"Grid\"},{\"id\":\"3653\",\"type\":\"BoxAnnotation\"},{\"id\":\"3663\",\"type\":\"GlyphRenderer\"}],\"title\":{\"id\":\"3839\",\"type\":\"Title\"},\"toolbar\":{\"id\":\"3651\",\"type\":\"Toolbar\"},\"x_range\":{\"id\":\"3627\",\"type\":\"DataRange1d\"},\"x_scale\":{\"id\":\"3631\",\"type\":\"LinearScale\"},\"y_range\":{\"id\":\"3629\",\"type\":\"DataRange1d\"},\"y_scale\":{\"id\":\"3633\",\"type\":\"LinearScale\"}},\"id\":\"3626\",\"subtype\":\"Figure\",\"type\":\"Plot\"},{\"attributes\":{\"plot\":null,\"text\":\"\"},\"id\":\"3839\",\"type\":\"Title\"},{\"attributes\":{},\"id\":\"3592\",\"type\":\"LinearScale\"},{\"attributes\":{\"overlay\":{\"id\":\"3653\",\"type\":\"BoxAnnotation\"}},\"id\":\"3647\",\"type\":\"BoxZoomTool\"},{\"attributes\":{\"data_source\":{\"id\":\"3621\",\"type\":\"ColumnDataSource\"},\"glyph\":{\"id\":\"3622\",\"type\":\"Line\"},\"hover_glyph\":null,\"muted_glyph\":null,\"nonselection_glyph\":{\"id\":\"3623\",\"type\":\"Line\"},\"selection_glyph\":null,\"view\":{\"id\":\"3625\",\"type\":\"CDSView\"}},\"id\":\"3624\",\"type\":\"GlyphRenderer\"},{\"attributes\":{\"callback\":null},\"id\":\"3590\",\"type\":\"DataRange1d\"},{\"attributes\":{},\"id\":\"3648\",\"type\":\"SaveTool\"},{\"attributes\":{\"source\":{\"id\":\"3621\",\"type\":\"ColumnDataSource\"}},\"id\":\"3625\",\"type\":\"CDSView\"},{\"attributes\":{},\"id\":\"3594\",\"type\":\"LinearScale\"},{\"attributes\":{},\"id\":\"3649\",\"type\":\"ResetTool\"},{\"attributes\":{\"line_alpha\":0.1,\"line_color\":\"#1f77b4\",\"line_width\":2,\"x\":{\"field\":\"x\"},\"y\":{\"field\":\"y\"}},\"id\":\"3623\",\"type\":\"Line\"},{\"attributes\":{},\"id\":\"3650\",\"type\":\"HelpTool\"},{\"attributes\":{\"callback\":null},\"id\":\"3627\",\"type\":\"DataRange1d\"},{\"attributes\":{\"line_color\":\"#1f77b4\",\"line_width\":2,\"x\":{\"field\":\"x\"},\"y\":{\"field\":\"y\"}},\"id\":\"3622\",\"type\":\"Line\"},{\"attributes\":{\"callback\":null},\"id\":\"3629\",\"type\":\"DataRange1d\"},{\"attributes\":{\"axis_label\":\"Avg Episodic Reward over 20 arms\",\"formatter\":{\"id\":\"3843\",\"type\":\"BasicTickFormatter\"},\"plot\":{\"id\":\"3587\",\"subtype\":\"Figure\",\"type\":\"Plot\"},\"ticker\":{\"id\":\"3602\",\"type\":\"BasicTicker\"}},\"id\":\"3601\",\"type\":\"LinearAxis\"},{\"attributes\":{\"bottom_units\":\"screen\",\"fill_alpha\":{\"value\":0.5},\"fill_color\":{\"value\":\"lightgrey\"},\"left_units\":\"screen\",\"level\":\"overlay\",\"line_alpha\":{\"value\":1.0},\"line_color\":{\"value\":\"black\"},\"line_dash\":[4,4],\"line_width\":{\"value\":2},\"plot\":null,\"render_mode\":\"css\",\"right_units\":\"screen\",\"top_units\":\"screen\"},\"id\":\"3653\",\"type\":\"BoxAnnotation\"},{\"attributes\":{},\"id\":\"3631\",\"type\":\"LinearScale\"},{\"attributes\":{\"plot\":{\"id\":\"3587\",\"subtype\":\"Figure\",\"type\":\"Plot\"},\"ticker\":{\"id\":\"3597\",\"type\":\"BasicTicker\"}},\"id\":\"3600\",\"type\":\"Grid\"},{\"attributes\":{\"data_source\":{\"id\":\"3660\",\"type\":\"ColumnDataSource\"},\"glyph\":{\"id\":\"3661\",\"type\":\"Line\"},\"hover_glyph\":null,\"muted_glyph\":null,\"nonselection_glyph\":{\"id\":\"3662\",\"type\":\"Line\"},\"selection_glyph\":null,\"view\":{\"id\":\"3664\",\"type\":\"CDSView\"}},\"id\":\"3663\",\"type\":\"GlyphRenderer\"},{\"attributes\":{},\"id\":\"3633\",\"type\":\"LinearScale\"},{\"attributes\":{},\"id\":\"3597\",\"type\":\"BasicTicker\"},{\"attributes\":{\"source\":{\"id\":\"3660\",\"type\":\"ColumnDataSource\"}},\"id\":\"3664\",\"type\":\"CDSView\"},{\"attributes\":{\"axis_label\":\"Episodes\",\"formatter\":{\"id\":\"3845\",\"type\":\"BasicTickFormatter\"},\"plot\":{\"id\":\"3626\",\"subtype\":\"Figure\",\"type\":\"Plot\"},\"ticker\":{\"id\":\"3636\",\"type\":\"BasicTicker\"}},\"id\":\"3635\",\"type\":\"LinearAxis\"},{\"attributes\":{\"axis_label\":\"Episodes\",\"formatter\":{\"id\":\"3841\",\"type\":\"BasicTickFormatter\"},\"plot\":{\"id\":\"3587\",\"subtype\":\"Figure\",\"type\":\"Plot\"},\"ticker\":{\"id\":\"3597\",\"type\":\"BasicTicker\"}},\"id\":\"3596\",\"type\":\"LinearAxis\"},{\"attributes\":{},\"id\":\"3636\",\"type\":\"BasicTicker\"}],\"root_ids\":[\"3665\"]},\"title\":\"Bokeh Application\",\"version\":\"1.0.2\"}};\n",
       "  var render_items = [{\"docid\":\"3678dc9d-3e89-44e6-bd82-b9135af60336\",\"roots\":{\"3665\":\"e4688180-f851-42fe-b94e-329457688e56\"}}];\n",
       "  root.Bokeh.embed.embed_items_notebook(docs_json, render_items);\n",
       "\n",
       "  }\n",
       "  if (root.Bokeh !== undefined) {\n",
       "    embed_document(root);\n",
       "  } else {\n",
       "    var attempts = 0;\n",
       "    var timer = setInterval(function(root) {\n",
       "      if (root.Bokeh !== undefined) {\n",
       "        embed_document(root);\n",
       "        clearInterval(timer);\n",
       "      }\n",
       "      attempts++;\n",
       "      if (attempts > 100) {\n",
       "        console.log(\"Bokeh: ERROR: Unable to run BokehJS code because BokehJS library is missing\");\n",
       "        clearInterval(timer);\n",
       "      }\n",
       "    }, 10, root)\n",
       "  }\n",
       "})(window);"
      ],
      "application/vnd.bokehjs_exec.v0+json": ""
     },
     "metadata": {
      "application/vnd.bokehjs_exec.v0+json": {
       "id": "3665"
      }
     },
     "output_type": "display_data"
    }
   ],
   "source": [
    "PLOT_WIDTH = 900\n",
    "PLOT_HEIGHT = 300\n",
    "LINE_WIDTH = 2\n",
    "\n",
    "\n",
    "def get_figure(data, x_axis_label, y_axis_label):\n",
    "    #data = list(map(lambda x : 0 if x == float('nan') else x , data))\n",
    "    #print(data)\n",
    "    fig = figure(\n",
    "        plot_width=PLOT_WIDTH,\n",
    "        plot_height=PLOT_HEIGHT,\n",
    "        y_axis_label=y_axis_label,\n",
    "        x_axis_label=x_axis_label\n",
    "    )\n",
    "    fig.line(range(len(data)), data, line_width=LINE_WIDTH)\n",
    "    return fig\n",
    "\n",
    "plots = []\n",
    "\n",
    "plots.append(get_figure(scores, 'Episodes', 'Avg Episodic Reward over 20 arms'))\n",
    "plots.append(get_figure([np.mean(scores[:i+1][-100:]) for i in range(len(scores))],\n",
    "                        'Episodes', 'Moving Avg Episodic Reward over 20 arms'))\n",
    "\n",
    "\n",
    "main_row = column(*plots)\n",
    "show(main_row)\n"
   ]
  },
  {
   "cell_type": "markdown",
   "metadata": {},
   "source": [
    "Plot 1 shows average rewards over 20 arms received by the agent per episode. Plot 2 show average reward (over 100 episodes) recieved by the agent. The endgoal of the project was to train an agent which is able to receive an average reward (over 100 episodes, and over all 20 agents) of at least +30. Plot 2 shows that the PPO agent presented in this project acheived reward that is more than 30. Agent took 2500 training episodes to learn."
   ]
  },
  {
   "cell_type": "markdown",
   "metadata": {},
   "source": [
    "#### Future work\n",
    "- I would like to extend this to work with new environemnts.\n",
    "- The agent performs well with current hyperparameters. It took around 2500 episodes to reach this level, I would like to further tune the hyperparameters to see if the agent learns any faster."
   ]
  },
  {
   "cell_type": "markdown",
   "metadata": {},
   "source": [
    "#### Refrences\n",
    "- [Proximal Policy Optimization Algorithms](https://arxiv.org/pdf/1707.06347.pdf)\n",
    "- [60 Days RL Challenge](https://github.com/andri27-ts/60_Days_RL_Challenge/tree/master/Week5)\n"
   ]
  }
 ],
 "metadata": {
  "kernelspec": {
   "display_name": "drlnd",
   "language": "python",
   "name": "drlnd"
  },
  "language_info": {
   "codemirror_mode": {
    "name": "ipython",
    "version": 3
   },
   "file_extension": ".py",
   "mimetype": "text/x-python",
   "name": "python",
   "nbconvert_exporter": "python",
   "pygments_lexer": "ipython3",
   "version": "3.6.7"
  }
 },
 "nbformat": 4,
 "nbformat_minor": 2
}
